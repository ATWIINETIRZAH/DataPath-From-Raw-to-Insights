{
 "cells": [
  {
   "cell_type": "code",
   "execution_count": 1,
   "metadata": {},
   "outputs": [],
   "source": [
    "#import relevant libraries\n",
    "\n",
    "#for data manipulation\n",
    "import pandas as pd\n",
    "#for numerical operations\n",
    "import numpy as np\n",
    "#for statistical visualization\n",
    "import seaborn as sns\n",
    "#library used for data plotting\n",
    "import matplotlib as mat"
   ]
  },
  {
   "cell_type": "code",
   "execution_count": 4,
   "metadata": {},
   "outputs": [],
   "source": [
    "#create a dataframe named grades and use it to read the dataset(excel file-student performance)\n",
    "grades= pd.read_excel('student_performance.xlsx')"
   ]
  },
  {
   "cell_type": "code",
   "execution_count": 6,
   "metadata": {},
   "outputs": [
    {
     "data": {
      "text/html": [
       "<div>\n",
       "<style scoped>\n",
       "    .dataframe tbody tr th:only-of-type {\n",
       "        vertical-align: middle;\n",
       "    }\n",
       "\n",
       "    .dataframe tbody tr th {\n",
       "        vertical-align: top;\n",
       "    }\n",
       "\n",
       "    .dataframe thead th {\n",
       "        text-align: right;\n",
       "    }\n",
       "</style>\n",
       "<table border=\"1\" class=\"dataframe\">\n",
       "  <thead>\n",
       "    <tr style=\"text-align: right;\">\n",
       "      <th></th>\n",
       "      <th>Access No</th>\n",
       "      <th>Gender</th>\n",
       "      <th>Age</th>\n",
       "      <th>Course</th>\n",
       "      <th>DSC3108</th>\n",
       "      <th>DSC3114</th>\n",
       "      <th>MTH3108</th>\n",
       "      <th>SYE3104</th>\n",
       "    </tr>\n",
       "  </thead>\n",
       "  <tbody>\n",
       "    <tr>\n",
       "      <th>0</th>\n",
       "      <td>7896</td>\n",
       "      <td>Female</td>\n",
       "      <td>20</td>\n",
       "      <td>Computer Science</td>\n",
       "      <td>87.0</td>\n",
       "      <td>53.0</td>\n",
       "      <td>NaN</td>\n",
       "      <td>67</td>\n",
       "    </tr>\n",
       "    <tr>\n",
       "      <th>1</th>\n",
       "      <td>6543</td>\n",
       "      <td>Male</td>\n",
       "      <td>21</td>\n",
       "      <td>Computer Science</td>\n",
       "      <td>56.0</td>\n",
       "      <td>62.0</td>\n",
       "      <td>78.0</td>\n",
       "      <td>77</td>\n",
       "    </tr>\n",
       "    <tr>\n",
       "      <th>2</th>\n",
       "      <td>1234</td>\n",
       "      <td>Female</td>\n",
       "      <td>22</td>\n",
       "      <td>Information Technology</td>\n",
       "      <td>78.0</td>\n",
       "      <td>81.0</td>\n",
       "      <td>90.0</td>\n",
       "      <td>65</td>\n",
       "    </tr>\n",
       "    <tr>\n",
       "      <th>3</th>\n",
       "      <td>5436</td>\n",
       "      <td>Male</td>\n",
       "      <td>22</td>\n",
       "      <td>Data Science</td>\n",
       "      <td>98.0</td>\n",
       "      <td>88.0</td>\n",
       "      <td>NaN</td>\n",
       "      <td>76</td>\n",
       "    </tr>\n",
       "    <tr>\n",
       "      <th>4</th>\n",
       "      <td>7888</td>\n",
       "      <td>Male</td>\n",
       "      <td>21</td>\n",
       "      <td>Electronics and Communication Science</td>\n",
       "      <td>66.0</td>\n",
       "      <td>NaN</td>\n",
       "      <td>79.0</td>\n",
       "      <td>87</td>\n",
       "    </tr>\n",
       "    <tr>\n",
       "      <th>5</th>\n",
       "      <td>1111</td>\n",
       "      <td>Male</td>\n",
       "      <td>20</td>\n",
       "      <td>Data Science</td>\n",
       "      <td>23.0</td>\n",
       "      <td>71.0</td>\n",
       "      <td>34.0</td>\n",
       "      <td>70</td>\n",
       "    </tr>\n",
       "    <tr>\n",
       "      <th>6</th>\n",
       "      <td>8232</td>\n",
       "      <td>Female</td>\n",
       "      <td>21</td>\n",
       "      <td>Computer Science</td>\n",
       "      <td>87.0</td>\n",
       "      <td>98.0</td>\n",
       "      <td>72.0</td>\n",
       "      <td>89</td>\n",
       "    </tr>\n",
       "    <tr>\n",
       "      <th>7</th>\n",
       "      <td>9547</td>\n",
       "      <td>Male</td>\n",
       "      <td>21</td>\n",
       "      <td>Computer Science</td>\n",
       "      <td>NaN</td>\n",
       "      <td>55.0</td>\n",
       "      <td>90.0</td>\n",
       "      <td>93</td>\n",
       "    </tr>\n",
       "    <tr>\n",
       "      <th>8</th>\n",
       "      <td>7732</td>\n",
       "      <td>Female</td>\n",
       "      <td>20</td>\n",
       "      <td>NaN</td>\n",
       "      <td>NaN</td>\n",
       "      <td>67.0</td>\n",
       "      <td>78.0</td>\n",
       "      <td>97</td>\n",
       "    </tr>\n",
       "    <tr>\n",
       "      <th>9</th>\n",
       "      <td>9121</td>\n",
       "      <td>Female</td>\n",
       "      <td>23</td>\n",
       "      <td>Information Technology</td>\n",
       "      <td>50.0</td>\n",
       "      <td>21.0</td>\n",
       "      <td>45.0</td>\n",
       "      <td>82</td>\n",
       "    </tr>\n",
       "    <tr>\n",
       "      <th>10</th>\n",
       "      <td>3341</td>\n",
       "      <td>Female</td>\n",
       "      <td>22</td>\n",
       "      <td>Electronics and Communication Science</td>\n",
       "      <td>87.0</td>\n",
       "      <td>90.0</td>\n",
       "      <td>NaN</td>\n",
       "      <td>12</td>\n",
       "    </tr>\n",
       "    <tr>\n",
       "      <th>11</th>\n",
       "      <td>3876</td>\n",
       "      <td>Male</td>\n",
       "      <td>20</td>\n",
       "      <td>Data Science</td>\n",
       "      <td>NaN</td>\n",
       "      <td>45.0</td>\n",
       "      <td>98.0</td>\n",
       "      <td>63</td>\n",
       "    </tr>\n",
       "  </tbody>\n",
       "</table>\n",
       "</div>"
      ],
      "text/plain": [
       "    Access No  Gender  Age                                 Course  DSC3108  \\\n",
       "0        7896  Female   20                       Computer Science     87.0   \n",
       "1        6543    Male   21                       Computer Science     56.0   \n",
       "2        1234  Female   22                 Information Technology     78.0   \n",
       "3        5436    Male   22                           Data Science     98.0   \n",
       "4        7888    Male   21  Electronics and Communication Science     66.0   \n",
       "5        1111    Male   20                           Data Science     23.0   \n",
       "6        8232  Female   21                       Computer Science     87.0   \n",
       "7        9547    Male   21                       Computer Science      NaN   \n",
       "8        7732  Female   20                                    NaN      NaN   \n",
       "9        9121  Female   23                 Information Technology     50.0   \n",
       "10       3341  Female   22  Electronics and Communication Science     87.0   \n",
       "11       3876    Male   20                           Data Science      NaN   \n",
       "\n",
       "    DSC3114  MTH3108  SYE3104  \n",
       "0      53.0      NaN       67  \n",
       "1      62.0     78.0       77  \n",
       "2      81.0     90.0       65  \n",
       "3      88.0      NaN       76  \n",
       "4       NaN     79.0       87  \n",
       "5      71.0     34.0       70  \n",
       "6      98.0     72.0       89  \n",
       "7      55.0     90.0       93  \n",
       "8      67.0     78.0       97  \n",
       "9      21.0     45.0       82  \n",
       "10     90.0      NaN       12  \n",
       "11     45.0     98.0       63  "
      ]
     },
     "execution_count": 6,
     "metadata": {},
     "output_type": "execute_result"
    }
   ],
   "source": [
    "#shows info in the excel file\n",
    "grades"
   ]
  },
  {
   "cell_type": "code",
   "execution_count": 5,
   "metadata": {},
   "outputs": [
    {
     "name": "stdout",
     "output_type": "stream",
     "text": [
      "(12, 8)\n"
     ]
    }
   ],
   "source": [
    "\n",
    "\n",
    "#shows how many rows and columns there are respectively\n",
    "grade_shape=grades.shape\n",
    "print(grades.shape)\n"
   ]
  },
  {
   "cell_type": "code",
   "execution_count": 8,
   "metadata": {},
   "outputs": [
    {
     "name": "stdout",
     "output_type": "stream",
     "text": [
      "   Access No  Gender  Age                                 Course  DSC3108  \\\n",
      "0       7896  Female   20                       Computer Science     87.0   \n",
      "1       6543    Male   21                       Computer Science     56.0   \n",
      "2       1234  Female   22                 Information Technology     78.0   \n",
      "3       5436    Male   22                           Data Science     98.0   \n",
      "4       7888    Male   21  Electronics and Communication Science     66.0   \n",
      "\n",
      "   DSC3114  MTH3108  SYE3104  \n",
      "0     53.0      NaN       67  \n",
      "1     62.0     78.0       77  \n",
      "2     81.0     90.0       65  \n",
      "3     88.0      NaN       76  \n",
      "4      NaN     79.0       87  \n"
     ]
    },
    {
     "data": {
      "text/plain": [
       "Access No      int64\n",
       "Gender        object\n",
       "Age            int64\n",
       "Course        object\n",
       "DSC3108      float64\n",
       "DSC3114      float64\n",
       "MTH3108      float64\n",
       "SYE3104        int64\n",
       "dtype: object"
      ]
     },
     "execution_count": 8,
     "metadata": {},
     "output_type": "execute_result"
    }
   ],
   "source": [
    "#shows first 5 rows in the data\n",
    "print(grades.head())\n",
    "\n",
    "#show data types in data\n",
    "grades.dtypes"
   ]
  },
  {
   "cell_type": "code",
   "execution_count": 11,
   "metadata": {},
   "outputs": [
    {
     "data": {
      "text/plain": [
       "Access No    0\n",
       "Gender       0\n",
       "Age          0\n",
       "Course       1\n",
       "DSC3108      3\n",
       "DSC3114      1\n",
       "MTH3108      3\n",
       "SYE3104      0\n",
       "dtype: int64"
      ]
     },
     "execution_count": 11,
     "metadata": {},
     "output_type": "execute_result"
    }
   ],
   "source": [
    "#show detailed info that is missing\n",
    "grades.isna\n",
    "\n",
    "#find sum of missing data- brief\n",
    "grades.isna().sum()"
   ]
  },
  {
   "cell_type": "code",
   "execution_count": 12,
   "metadata": {},
   "outputs": [],
   "source": [
    "#here we are trying to replace missing values with the course that appears most-mode(usually used for categorical data)\n",
    "grades2=grades[\"Course\"].fillna(value=grades[\"Course\"].mode()[0], inplace=True)"
   ]
  },
  {
   "cell_type": "code",
   "execution_count": 14,
   "metadata": {},
   "outputs": [
    {
     "data": {
      "text/plain": [
       "Access No    0\n",
       "Gender       0\n",
       "Age          0\n",
       "Course       0\n",
       "DSC3108      3\n",
       "DSC3114      1\n",
       "MTH3108      3\n",
       "SYE3104      0\n",
       "dtype: int64"
      ]
     },
     "execution_count": 14,
     "metadata": {},
     "output_type": "execute_result"
    }
   ],
   "source": [
    "#this shows that there are no missing values in the Course colummn\n",
    "grades2=grades\n",
    "# grades2\n",
    "grades2.isna().sum()"
   ]
  },
  {
   "cell_type": "code",
   "execution_count": 16,
   "metadata": {},
   "outputs": [
    {
     "name": "stderr",
     "output_type": "stream",
     "text": [
      "C:\\Users\\user\\AppData\\Local\\Temp\\ipykernel_508\\1746874041.py:2: FutureWarning: A value is trying to be set on a copy of a DataFrame or Series through chained assignment using an inplace method.\n",
      "The behavior will change in pandas 3.0. This inplace method will never work because the intermediate object on which we are setting values always behaves as a copy.\n",
      "\n",
      "For example, when doing 'df[col].method(value, inplace=True)', try using 'df.method({col: value}, inplace=True)' or df[col] = df[col].method(value) instead, to perform the operation inplace on the original object.\n",
      "\n",
      "\n",
      "  grades2=grades[\"DSC3108\"].fillna(value=grades[\"DSC3108\"].median(), inplace=True)\n"
     ]
    }
   ],
   "source": [
    "#here we try to replace missing values with the median.\n",
    "grades2=grades[\"DSC3108\"].fillna(value=grades[\"DSC3108\"].median(), inplace=True)"
   ]
  },
  {
   "cell_type": "code",
   "execution_count": 21,
   "metadata": {},
   "outputs": [
    {
     "data": {
      "text/plain": [
       "Access No    0\n",
       "Gender       0\n",
       "Age          0\n",
       "Course       0\n",
       "DSC3108      0\n",
       "DSC3114      1\n",
       "MTH3108      3\n",
       "SYE3104      0\n",
       "dtype: int64"
      ]
     },
     "execution_count": 21,
     "metadata": {},
     "output_type": "execute_result"
    }
   ],
   "source": [
    "#this shows that all missing values int the DSC3108 column have been replaced by the median\n",
    "grades2=grades\n",
    "grades2.isna().sum()"
   ]
  },
  {
   "cell_type": "code",
   "execution_count": 24,
   "metadata": {},
   "outputs": [
    {
     "data": {
      "text/html": [
       "<div>\n",
       "<style scoped>\n",
       "    .dataframe tbody tr th:only-of-type {\n",
       "        vertical-align: middle;\n",
       "    }\n",
       "\n",
       "    .dataframe tbody tr th {\n",
       "        vertical-align: top;\n",
       "    }\n",
       "\n",
       "    .dataframe thead th {\n",
       "        text-align: right;\n",
       "    }\n",
       "</style>\n",
       "<table border=\"1\" class=\"dataframe\">\n",
       "  <thead>\n",
       "    <tr style=\"text-align: right;\">\n",
       "      <th></th>\n",
       "      <th>Access No</th>\n",
       "      <th>Age</th>\n",
       "      <th>DSC3108</th>\n",
       "      <th>DSC3114</th>\n",
       "      <th>MTH3108</th>\n",
       "      <th>SYE3104</th>\n",
       "    </tr>\n",
       "  </thead>\n",
       "  <tbody>\n",
       "    <tr>\n",
       "      <th>count</th>\n",
       "      <td>12.000000</td>\n",
       "      <td>12.000000</td>\n",
       "      <td>12.000000</td>\n",
       "      <td>11.000000</td>\n",
       "      <td>9.000000</td>\n",
       "      <td>12.000000</td>\n",
       "    </tr>\n",
       "    <tr>\n",
       "      <th>mean</th>\n",
       "      <td>5996.416667</td>\n",
       "      <td>21.083333</td>\n",
       "      <td>72.166667</td>\n",
       "      <td>66.454545</td>\n",
       "      <td>73.777778</td>\n",
       "      <td>73.166667</td>\n",
       "    </tr>\n",
       "    <tr>\n",
       "      <th>std</th>\n",
       "      <td>2958.414546</td>\n",
       "      <td>0.996205</td>\n",
       "      <td>20.608177</td>\n",
       "      <td>22.593644</td>\n",
       "      <td>21.182409</td>\n",
       "      <td>22.286699</td>\n",
       "    </tr>\n",
       "    <tr>\n",
       "      <th>min</th>\n",
       "      <td>1111.000000</td>\n",
       "      <td>20.000000</td>\n",
       "      <td>23.000000</td>\n",
       "      <td>21.000000</td>\n",
       "      <td>34.000000</td>\n",
       "      <td>12.000000</td>\n",
       "    </tr>\n",
       "    <tr>\n",
       "      <th>25%</th>\n",
       "      <td>3742.250000</td>\n",
       "      <td>20.000000</td>\n",
       "      <td>63.500000</td>\n",
       "      <td>54.000000</td>\n",
       "      <td>72.000000</td>\n",
       "      <td>66.500000</td>\n",
       "    </tr>\n",
       "    <tr>\n",
       "      <th>50%</th>\n",
       "      <td>7137.500000</td>\n",
       "      <td>21.000000</td>\n",
       "      <td>78.000000</td>\n",
       "      <td>67.000000</td>\n",
       "      <td>78.000000</td>\n",
       "      <td>76.500000</td>\n",
       "    </tr>\n",
       "    <tr>\n",
       "      <th>75%</th>\n",
       "      <td>7980.000000</td>\n",
       "      <td>22.000000</td>\n",
       "      <td>87.000000</td>\n",
       "      <td>84.500000</td>\n",
       "      <td>90.000000</td>\n",
       "      <td>87.500000</td>\n",
       "    </tr>\n",
       "    <tr>\n",
       "      <th>max</th>\n",
       "      <td>9547.000000</td>\n",
       "      <td>23.000000</td>\n",
       "      <td>98.000000</td>\n",
       "      <td>98.000000</td>\n",
       "      <td>98.000000</td>\n",
       "      <td>97.000000</td>\n",
       "    </tr>\n",
       "  </tbody>\n",
       "</table>\n",
       "</div>"
      ],
      "text/plain": [
       "         Access No        Age    DSC3108    DSC3114    MTH3108    SYE3104\n",
       "count    12.000000  12.000000  12.000000  11.000000   9.000000  12.000000\n",
       "mean   5996.416667  21.083333  72.166667  66.454545  73.777778  73.166667\n",
       "std    2958.414546   0.996205  20.608177  22.593644  21.182409  22.286699\n",
       "min    1111.000000  20.000000  23.000000  21.000000  34.000000  12.000000\n",
       "25%    3742.250000  20.000000  63.500000  54.000000  72.000000  66.500000\n",
       "50%    7137.500000  21.000000  78.000000  67.000000  78.000000  76.500000\n",
       "75%    7980.000000  22.000000  87.000000  84.500000  90.000000  87.500000\n",
       "max    9547.000000  23.000000  98.000000  98.000000  98.000000  97.000000"
      ]
     },
     "execution_count": 24,
     "metadata": {},
     "output_type": "execute_result"
    }
   ],
   "source": [
    "#this provides a summary of different statistics on the data.\n",
    "grades.describe()"
   ]
  },
  {
   "cell_type": "code",
   "execution_count": null,
   "metadata": {},
   "outputs": [],
   "source": []
  }
 ],
 "metadata": {
  "kernelspec": {
   "display_name": "Python 3",
   "language": "python",
   "name": "python3"
  },
  "language_info": {
   "codemirror_mode": {
    "name": "ipython",
    "version": 3
   },
   "file_extension": ".py",
   "mimetype": "text/x-python",
   "name": "python",
   "nbconvert_exporter": "python",
   "pygments_lexer": "ipython3",
   "version": "3.10.4"
  }
 },
 "nbformat": 4,
 "nbformat_minor": 2
}
